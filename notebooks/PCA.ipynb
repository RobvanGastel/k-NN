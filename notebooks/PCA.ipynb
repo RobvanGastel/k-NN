{
 "cells": [
  {
   "cell_type": "code",
   "execution_count": 1,
   "metadata": {},
   "outputs": [],
   "source": [
    "from ipywidgets import interact,interactive,interact_manual\n",
    "\n",
    "from matplotlib import pyplot as plt\n",
    "from numpy.linalg import svd\n",
    "import numpy as np\n",
    "\n",
    "%matplotlib inline"
   ]
  },
  {
   "cell_type": "code",
   "execution_count": 2,
   "metadata": {},
   "outputs": [],
   "source": [
    "train = np.loadtxt(r'../data/MNIST_train_small.csv', delimiter=',')[:,1:]\n",
    "\n",
    "def compress_image(k):\n",
    "    image= train[1].reshape(28, 28)\n",
    "    original_shape = image.shape\n",
    "    reconst_img,s = compress_svd(image, k)\n",
    "    fig,axes = plt.subplots(1, 2, figsize=(8,5))\n",
    "    axes[0].plot(s)\n",
    "    compression_ratio =100.0* (k*(original_shape[0] + original_shape[1])+k)/(original_shape[0]*original_shape[1])\n",
    "    axes[1].set_title(\"compression ratio={:.2f}\".format(compression_ratio)+\"%\")\n",
    "    axes[1].imshow(reconst_img,cmap='gray')\n",
    "    axes[1].axis('off')\n",
    "    fig.tight_layout()\n",
    "\n",
    "def compress_svd(image, k):\n",
    "    \"\"\"\n",
    "    SVD decomposition, trucating image using k singular values\n",
    "    returns:\n",
    "        reconstructed matrix\n",
    "        matrix sigma with singular values\n",
    "    \"\"\"\n",
    "    U, sigma, V = svd(image, full_matrices=False)\n",
    "    reconst_matrix = np.dot(U[:,:k], np.dot(np.diag(sigma[:k]), V[:k,:]))\n",
    "    return reconst_matrix, sigma"
   ]
  },
  {
   "cell_type": "code",
   "execution_count": 3,
   "metadata": {},
   "outputs": [
    {
     "data": {
      "application/vnd.jupyter.widget-view+json": {
       "model_id": "d28f8d5878fb4edaa5653de55f7bd9d5",
       "version_major": 2,
       "version_minor": 0
      },
      "text/plain": [
       "interactive(children=(IntSlider(value=10, description='k', max=20, min=1), Output()), _dom_classes=('widget-in…"
      ]
     },
     "metadata": {},
     "output_type": "display_data"
    }
   ],
   "source": [
    "interact(compress_image, k=(1,20));"
   ]
  },
  {
   "cell_type": "code",
   "execution_count": 4,
   "metadata": {},
   "outputs": [],
   "source": [
    "for k in range(2, 11):\n",
    "    imgs_trunc = []\n",
    "    for img in train:\n",
    "        img_r = img.reshape(28, 28)\n",
    "        img_trunc, _ = compress_svd(img.reshape(28, 28), 2)\n",
    "        imgs_trunc.append(img_trunc)\n",
    "    np.savetxt(f'../data/train_{k}.csv', np.array(imgs_trunc).reshape((3,-1)), delimiter=',')"
   ]
  },
  {
   "cell_type": "code",
   "execution_count": null,
   "metadata": {},
   "outputs": [],
   "source": []
  }
 ],
 "metadata": {
  "kernelspec": {
   "display_name": "Python 3",
   "language": "python",
   "name": "python3"
  },
  "language_info": {
   "codemirror_mode": {
    "name": "ipython",
    "version": 3
   },
   "file_extension": ".py",
   "mimetype": "text/x-python",
   "name": "python",
   "nbconvert_exporter": "python",
   "pygments_lexer": "ipython3",
   "version": "3.7.3"
  }
 },
 "nbformat": 4,
 "nbformat_minor": 4
}
