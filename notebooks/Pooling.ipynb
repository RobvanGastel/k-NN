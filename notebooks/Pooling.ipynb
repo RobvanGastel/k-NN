{
 "cells": [
  {
   "cell_type": "code",
   "execution_count": 1,
   "metadata": {},
   "outputs": [],
   "source": [
    "from ipywidgets import interact, interactive, interact_manual\n",
    "from matplotlib import pyplot as plt\n",
    "import numpy as np\n",
    "\n",
    "%matplotlib inline"
   ]
  },
  {
   "cell_type": "code",
   "execution_count": 2,
   "metadata": {},
   "outputs": [],
   "source": [
    "train = np.loadtxt(r'../data/MNIST_train_small.csv', \n",
    "    delimiter=',')[:4]\n",
    "test = np.loadtxt(r'../data/MNIST_test_small.csv', \n",
    "    delimiter=',')[:50]\n",
    "\n",
    "X_train, y_train = train[:,1:], train[:,0]\n",
    "X_test, y_test = test[:,1:], test[:,0]"
   ]
  },
  {
   "cell_type": "code",
   "execution_count": 3,
   "metadata": {},
   "outputs": [
    {
     "data": {
      "text/plain": [
       "(28, 28)"
      ]
     },
     "execution_count": 3,
     "metadata": {},
     "output_type": "execute_result"
    }
   ],
   "source": [
    "x = X_train[0].reshape(28, 28)\n",
    "x.shape"
   ]
  },
  {
   "cell_type": "code",
   "execution_count": 17,
   "metadata": {},
   "outputs": [],
   "source": [
    "import numpy as np\n",
    "from numpy.lib.stride_tricks import as_strided\n",
    "\n",
    "def max_pool2d(A, kernel_size, stride, padding):\n",
    "    '''\n",
    "    2D Pooling\n",
    "\n",
    "    Parameters:\n",
    "        A: input 2D array\n",
    "        kernel_size: int, the size of the window\n",
    "        stride: int, the stride of the window\n",
    "        padding: int, implicit zero paddings on both sides of the input\n",
    "        pool_mode: string, 'max' or 'avg'\n",
    "    '''\n",
    "    # Padding\n",
    "    A = np.pad(A, padding, mode='constant')\n",
    "\n",
    "    # Window view of A\n",
    "    output_shape = ((A.shape[0] - kernel_size)//stride + 1,\n",
    "                    (A.shape[1] - kernel_size)//stride + 1)\n",
    "    kernel_size = (kernel_size, kernel_size)\n",
    "    A_w = as_strided(A, shape = output_shape + kernel_size, \n",
    "                        strides = (stride*A.strides[0],\n",
    "                                   stride*A.strides[1]) + A.strides)\n",
    "    A_w = A_w.reshape(-1, *kernel_size)\n",
    "\n",
    "    # Return the result of pooling\n",
    "    return A_w.max(axis=(1,2)).reshape(output_shape)"
   ]
  },
  {
   "cell_type": "code",
   "execution_count": 18,
   "metadata": {},
   "outputs": [
    {
     "data": {
      "text/plain": [
       "array([[  0.,   0.,   0.,   0.,   0., 254., 146.,   0.,   0.],\n",
       "       [  0.,   0.,   0.,   0., 253., 254., 190.,   0.,   0.],\n",
       "       [  0.,   0.,   0., 238., 254., 192.,   0.,   0.,   0.],\n",
       "       [  0.,   0.,  54., 254., 225.,   0.,   0.,   0.,   0.],\n",
       "       [  0.,   0., 253., 254.,   9., 252., 255., 253.,   0.],\n",
       "       [  0.,   0., 254., 122., 254., 254., 211., 254.,   0.],\n",
       "       [  0.,   0., 253., 254., 253., 254., 254., 225.,   0.],\n",
       "       [  0.,   0.,   0., 147., 253., 148.,   0.,   0.,   0.],\n",
       "       [  0.,   0.,   0.,   0.,   0.,   0.,   0.,   0.,   0.]])"
      ]
     },
     "execution_count": 18,
     "metadata": {},
     "output_type": "execute_result"
    }
   ],
   "source": [
    "max_pool2d(x, kernel_size=3, stride=3, padding=0)"
   ]
  },
  {
   "cell_type": "code",
   "execution_count": 23,
   "metadata": {},
   "outputs": [],
   "source": [
    "def pool_image(kernel, stride, pad):\n",
    "    image= X_train[0].reshape(28, 28)\n",
    "    original_shape = image.shape\n",
    "    reconst_img = max_pool2d(image, kernel_size=kernel, stride=stride, padding=pad)\n",
    "    fig,axes = plt.subplots(1, 1, figsize=(8,5))\n",
    "    axes.set_title(\"Pooled image of size {}\".format(reconst_img.shape))\n",
    "    axes.imshow(reconst_img,cmap='gray')\n",
    "    axes.axis('off')\n",
    "    fig.tight_layout()"
   ]
  },
  {
   "cell_type": "code",
   "execution_count": 24,
   "metadata": {},
   "outputs": [
    {
     "data": {
      "application/vnd.jupyter.widget-view+json": {
       "model_id": "0da3b238d4264a04a263f419d497bb5b",
       "version_major": 2,
       "version_minor": 0
      },
      "text/plain": [
       "interactive(children=(IntSlider(value=4, description='kernel', max=8, min=1), IntSlider(value=4, description='…"
      ]
     },
     "metadata": {},
     "output_type": "display_data"
    }
   ],
   "source": [
    "interact(pool_image, kernel=(1,8), stride=(1,8), pad=(0, 5));"
   ]
  },
  {
   "cell_type": "code",
   "execution_count": null,
   "metadata": {},
   "outputs": [],
   "source": []
  }
 ],
 "metadata": {
  "kernelspec": {
   "display_name": "Python 3",
   "language": "python",
   "name": "python3"
  },
  "language_info": {
   "codemirror_mode": {
    "name": "ipython",
    "version": 3
   },
   "file_extension": ".py",
   "mimetype": "text/x-python",
   "name": "python",
   "nbconvert_exporter": "python",
   "pygments_lexer": "ipython3",
   "version": "3.7.3"
  }
 },
 "nbformat": 4,
 "nbformat_minor": 4
}
