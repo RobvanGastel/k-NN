{
 "cells": [
  {
   "cell_type": "code",
   "execution_count": null,
   "metadata": {},
   "outputs": [],
   "source": [
    "%matplotlib inline\n",
    "import numpy as np\n",
    "import pandas as pd\n",
    "from matplotlib import pyplot as plt\n",
    "from matplotlib.font_manager import FontProperties\n",
    "import seaborn as sns"
   ]
  },
  {
   "cell_type": "code",
   "execution_count": null,
   "metadata": {},
   "outputs": [],
   "source": [
    "AX_TITLE_SIZE = 16\n",
    "LABEL_SIZE = 14"
   ]
  },
  {
   "cell_type": "code",
   "execution_count": null,
   "metadata": {},
   "outputs": [],
   "source": [
    "params = {\n",
    "    'text.usetex' : True,\n",
    "    'font.size' : AX_TITLE_SIZE\n",
    "}\n",
    "plt.rcParams.update(params) \n",
    "\n",
    "fontP = FontProperties()\n",
    "fontP.set_size(12)"
   ]
  },
  {
   "cell_type": "code",
   "execution_count": null,
   "metadata": {},
   "outputs": [],
   "source": [
    "def get_data(dist, test, small, LOOCV, maxpooling=False):\n",
    "    file_name = dist\n",
    "    if small:\n",
    "        file_name += '_small'\n",
    "    else:\n",
    "        file_name += '_large'\n",
    "    file_name += '_test' if test else '_train'\n",
    "    if LOOCV:\n",
    "        file_name += '_LOOCV'\n",
    "    if maxpooling:\n",
    "        file_name += '_maxpool'\n",
    "    \n",
    "    return np.loadtxt(r'../results/' + file_name + '.txt', delimiter=',', skiprows=1)"
   ]
  },
  {
   "cell_type": "markdown",
   "metadata": {},
   "source": [
    "## Question A"
   ]
  },
  {
   "cell_type": "code",
   "execution_count": null,
   "metadata": {},
   "outputs": [],
   "source": [
    "eucl_test = get_data('euclidian', test=True, small=True, LOOCV=False)\n",
    "eucl_train = get_data('euclidian', test=False, small=True, LOOCV=False)"
   ]
  },
  {
   "cell_type": "code",
   "execution_count": null,
   "metadata": {},
   "outputs": [],
   "source": [
    "fig, (ax1, ax2) = plt.subplots(1, 2, figsize=(16, 6))\n",
    "fig.suptitle(r'\\Huge{\\textbf{Euclidean Distance}}')\n",
    "\n",
    "ax1.set_title(r'Train Data (small)')\n",
    "ax1.set_xlabel('k', fontsize=LABEL_SIZE)\n",
    "ax1.set_ylabel('0/1 Loss', fontsize=LABEL_SIZE)\n",
    "ax1.set_xticks([x for x in range(1, len(eucl_train[:,1])+1)])\n",
    "ax1.plot(eucl_train[:,1], eucl_train[:,0], marker='o')\n",
    "\n",
    "ax2.set_title(r'Test Data (small)')\n",
    "ax2.set_xlabel('k', fontsize=LABEL_SIZE)\n",
    "ax2.set_ylabel('0/1 Loss', fontsize=LABEL_SIZE)\n",
    "ax2.set_xticks([x for x in range(1, len(eucl_test[:,1])+1)])\n",
    "ax2.plot(eucl_test[:,1], eucl_test[:,0], marker='o', color='orange')\n",
    "\n",
    "fig.tight_layout()\n",
    "fig.savefig(\n",
    "    r'../figures/QA.png',\n",
    "    bbox_size='tight',\n",
    "    dpi=350,\n",
    "    transparent=True,\n",
    "    pad_inches=0\n",
    ")"
   ]
  },
  {
   "cell_type": "markdown",
   "metadata": {},
   "source": [
    "## Question B"
   ]
  },
  {
   "cell_type": "code",
   "execution_count": null,
   "metadata": {},
   "outputs": [],
   "source": [
    "eucl_train_LOOCV = get_data('euclidian', test=False, small=True, LOOCV=True)\n",
    "eucl_test = get_data('euclidian', test=True, small=True, LOOCV=False)\n",
    "eucl_train_LOOCV_risk = eucl_train_LOOCV[:, 0]/2999"
   ]
  },
  {
   "cell_type": "code",
   "execution_count": null,
   "metadata": {},
   "outputs": [],
   "source": [
    "fig, (ax1, ax2) = plt.subplots(1, 2, figsize=(16, 6))\n",
    "fig.suptitle(r'\\Huge{\\textbf{Euclidean Distance}}')\n",
    "\n",
    "ax1.set_title(r'LOOCV Train Data (small)')\n",
    "ax1.set_xlabel('k', fontsize=LABEL_SIZE)\n",
    "ax1.set_ylabel('Empirical Risk', fontsize=LABEL_SIZE)\n",
    "ax1.set_xticks([x for x in range(1, len(eucl_train_LOOCV[:,1])+1)])\n",
    "ax1.plot(eucl_train_LOOCV[:,1], eucl_train_LOOCV_risk, marker='o')\n",
    "\n",
    "ax2.set_title(r'Test Data (small)')\n",
    "ax2.set_xlabel('k', fontsize=LABEL_SIZE)\n",
    "ax2.set_ylabel('0/1 Loss', fontsize=LABEL_SIZE)\n",
    "ax2.set_xticks([x for x in range(1, len(eucl_test[:,1])+1)])\n",
    "ax2.plot(eucl_test[:,1], eucl_test[:,0], marker='o', color='orange')\n",
    "\n",
    "fig.tight_layout()\n",
    "fig.savefig(\n",
    "    r'../figures/QB.png',\n",
    "    bbox_size='tight',\n",
    "    dpi=350,\n",
    "    transparent=True,\n",
    "    pad_inches=0\n",
    ")"
   ]
  },
  {
   "cell_type": "markdown",
   "metadata": {},
   "source": [
    "## Question C"
   ]
  },
  {
   "cell_type": "code",
   "execution_count": null,
   "metadata": {},
   "outputs": [],
   "source": [
    "min_train_LOOCV = get_data('minkowski', test=False, small=True, LOOCV=True)\n",
    "min_test = get_data('minkowski', test=True, small=True, LOOCV=False)\n",
    "min_train_LOOCV_risk = min_train_LOOCV[:, 0]/2999"
   ]
  },
  {
   "cell_type": "code",
   "execution_count": null,
   "metadata": {},
   "outputs": [],
   "source": [
    "fig, ax1 = plt.subplots(1, 1, figsize=(10, 8))\n",
    "fig.suptitle(r\"\\Huge{\\textbf{Minkowski Distance}}\" \"\\n\" r\"LOOCV Risk Train Data (small)\")\n",
    "# from cycler import cycler\n",
    "\n",
    "ax1.set_prop_cycle(color=['blue', 'red', 'yellow', 'saddlebrown', 'gold', 'green', 'm', 'crimson', 'springgreen', 'aqua', 'maroon', 'dodgerblue', 'fuchsia', 'navy', 'orange'])\n",
    "ax1.set_xlabel('k', fontsize=LABEL_SIZE)\n",
    "ax1.set_ylabel('Empirical Risk', fontsize=LABEL_SIZE)\n",
    "ax1.set_xticks([x for x in range(1, len(eucl_train_LOOCV[:,1])+1)])\n",
    "for p in np.sort(np.unique(min_train_LOOCV[:, 2])):\n",
    "    p_results = np.where(min_train_LOOCV[:, 2] == p)\n",
    "    ax1.plot(\n",
    "        min_train_LOOCV[p_results][:, 1],\n",
    "        min_train_LOOCV_risk[p_results],\n",
    "        marker='o',\n",
    "        label=f'p={int(p)}'\n",
    "    )\n",
    "ax1.legend(\n",
    "    loc='upper left',\n",
    "    ncol=3,\n",
    "    frameon=False\n",
    ")\n",
    "\n",
    "fig.tight_layout()\n",
    "fig.subplots_adjust(top=.905)\n",
    "fig.savefig(\n",
    "    r'../figures/QC.png',\n",
    "    bbox_size='tight',\n",
    "    dpi=350,\n",
    "    transparent=True,\n",
    "    pad_inches=0\n",
    ")"
   ]
  },
  {
   "cell_type": "markdown",
   "metadata": {},
   "source": [
    "## Question D"
   ]
  },
  {
   "cell_type": "code",
   "execution_count": null,
   "metadata": {},
   "outputs": [],
   "source": [
    "min_train_LOOCV = get_data('minkowski', test=False, small=True, LOOCV=True, maxpooling=True)\n",
    "min_train_LOOCV_risk = min_train_LOOCV[:, 0]/2999"
   ]
  },
  {
   "cell_type": "code",
   "execution_count": null,
   "metadata": {},
   "outputs": [],
   "source": [
    "fig, ax1 = plt.subplots(1, 1, figsize=(10, 8))\n",
    "fig.suptitle(r\"\\Huge{\\textbf{Minkowski Distance with Max-pooling}}\" \"\\n\" r\"LOOCV Risk Train Data (small)\")\n",
    "\n",
    "ax1.set_prop_cycle(color=[\n",
    "    'blue', 'red', 'coral', 'saddlebrown', 'gold', 'green', 'm',\n",
    "    'purple', 'springgreen','aqua', 'maroon', 'dodgerblue',\n",
    "    'fuchsia', 'navy', 'orange'\n",
    "])\n",
    "ax1.set_xlabel('k', fontsize=LABEL_SIZE)\n",
    "ax1.set_ylabel('Empirical Risk', fontsize=LABEL_SIZE)\n",
    "ax1.set_xticks([x for x in range(1, len(eucl_train_LOOCV[:,1])+1)])\n",
    "for p in np.sort(np.unique(min_train_LOOCV[:, 2])):\n",
    "    p_results = np.where(min_train_LOOCV[:, 2] == p)\n",
    "    ax1.plot(\n",
    "        min_train_LOOCV[p_results][:, 1],\n",
    "        min_train_LOOCV_risk[p_results],\n",
    "        marker='o',\n",
    "        label=f'p={int(p)}'\n",
    "    )\n",
    "ax1.legend(\n",
    "    loc='upper left',\n",
    "    ncol=3,\n",
    "    frameon=False\n",
    ")\n",
    "\n",
    "fig.tight_layout()\n",
    "fig.subplots_adjust(top=.905)\n",
    "fig.savefig(\n",
    "    r'../figures/QD.png',\n",
    "    bbox_size='tight',\n",
    "    dpi=350,\n",
    "    transparent=True,\n",
    "    pad_inches=0\n",
    ")"
   ]
  },
  {
   "cell_type": "code",
   "execution_count": null,
   "metadata": {},
   "outputs": [],
   "source": [
    "eucl_train_LOOCV = get_data('euclidian', test=False, small=True, LOOCV=True)\n",
    "eucl_train_LOOCV_risk = eucl_train_LOOCV[:, 0]/2999\n",
    "\n",
    "min_maxpool_train_LOOCV = get_data('minkowski', test=False, small=True, LOOCV=True, maxpooling=True)\n",
    "min_maxpool_LOOCV = min_maxpool_train_LOOCV[100:120][:, :2]\n",
    "min_maxpool_LOOCV_risk = min_maxpool_LOOCV[:, 0]/2999\n",
    "\n",
    "min_train_LOOCV = get_data('minkowski', test=False, small=True, LOOCV=True)\n",
    "min_train_LOOCV = min_train_LOOCV[140:160][:, :2]\n",
    "min_train_LOOCV_risk = min_train_LOOCV[:, 0]/2999\n",
    "\n",
    "cos_train_LOOCV = get_data('cosine', test=False, small=True, LOOCV=True)\n",
    "cos_train_LOOCV = cos_train_LOOCV\n",
    "cos_train_LOOCV_risk = cos_train_LOOCV[:, 0]/2999\n",
    "\n",
    "man_train_LOOCV = get_data('manhattan', test=False, small=True, LOOCV=True)\n",
    "man_train_LOOCV = man_train_LOOCV\n",
    "man_train_LOOCV_risk = man_train_LOOCV[:, 0]/2999\n",
    "\n",
    "combined_risk = [eucl_train_LOOCV_risk, min_maxpool_LOOCV_risk, min_train_LOOCV_risk, \n",
    "                 cos_train_LOOCV_risk, man_train_LOOCV_risk]\n",
    "combined = [\"Euclidian\", \"Minkowski with max pooling\", \"Minkowski\", \"Cosine\", \"Manhattan\"]"
   ]
  },
  {
   "cell_type": "code",
   "execution_count": null,
   "metadata": {},
   "outputs": [],
   "source": [
    "fig, ax1 = plt.subplots(1, 1, figsize=(10, 8))\n",
    "fig.suptitle(r\"\\Huge{\\textbf{Distance functions}}\" \"\\n\" r\"LOOCV Risk Train Data (small)\")\n",
    "\n",
    "ax1.set_xlabel('k', fontsize=LABEL_SIZE)\n",
    "ax1.set_ylabel('Empirical Risk', fontsize=LABEL_SIZE)\n",
    "ax1.set_xticks([x for x in range(1, len(eucl_train_LOOCV[:,1])+1)])\n",
    "for i, p in enumerate(combined_risk):\n",
    "    ax1.plot(\n",
    "        range(1, 21),\n",
    "        p,\n",
    "        marker='o',\n",
    "        label=f'{combined[i]}'\n",
    "    )\n",
    "ax1.legend(\n",
    "    loc='upper left',\n",
    "    ncol=3,\n",
    "    frameon=False\n",
    ")\n",
    "\n",
    "fig.tight_layout()\n",
    "fig.subplots_adjust(top=.905)\n",
    "fig.savefig(\n",
    "    r'../figures/QD_2.png',\n",
    "    bbox_size='tight',\n",
    "    dpi=350,\n",
    "    transparent=True,\n",
    "    pad_inches=0\n",
    ")"
   ]
  },
  {
   "cell_type": "markdown",
   "metadata": {},
   "source": [
    "## Question E"
   ]
  },
  {
   "cell_type": "code",
   "execution_count": null,
   "metadata": {},
   "outputs": [],
   "source": [
    "min_train_loocv1 = np.loadtxt(r'..\\results\\QE\\minkowski_train_LOOCV.txt', delimiter=',')\n",
    "min_train_loocv2 = np.loadtxt(r'..\\results\\QE\\minkowski_train_LOOCV.txt', delimiter=',')\n",
    "min_train_loocv3 = np.loadtxt(r'..\\results\\QE\\minkowski_train_LOOCV.txt', delimiter=',')\n",
    "min_train_loocv = np.vstack((min_train_loocv1, min_train_loocv2, min_train_loocv3))"
   ]
  },
  {
   "cell_type": "code",
   "execution_count": null,
   "metadata": {},
   "outputs": [],
   "source": [
    "min_train_loocv_agg = []\n",
    "for k in np.sort(np.unique(min_train_loocv[:, 2])):\n",
    "    k = int(k)\n",
    "    k_loss = np.sum(min_train_loocv[np.where(min_train_loocv[:, 2] == k)][:, 1])\n",
    "    min_train_loocv_agg.append([\n",
    "        k_loss,\n",
    "        k,\n",
    "        8\n",
    "    ])\n",
    "np.savetxt(r'..\\results\\QE\\minkowski_train_LOOCV_agg.txt', min_train_loocv_agg, delimiter=\",\", fmt='%s')\n",
    "min_train_loocv_agg = np.array(min_train_loocv_agg)\n",
    "min_train_loocv_agg_risk = min_train_loocv_agg[:, 0]/(60_000-1)"
   ]
  },
  {
   "cell_type": "code",
   "execution_count": null,
   "metadata": {},
   "outputs": [],
   "source": [
    "fig, ax1 = plt.subplots(1, 1, figsize=(10, 8))\n",
    "fig.suptitle(r\"\\Huge{\\textbf{Minkowski Distance}}\" \"\\n\" r\"LOOCV Risk Train Data $p=8$\")\n",
    "\n",
    "ax1.set_xlabel('k', fontsize=LABEL_SIZE)\n",
    "ax1.set_ylabel('Empirical Risk', fontsize=LABEL_SIZE)\n",
    "ax1.set_xticks([x for x in range(1, len(min_train_loocv_agg[:,1])+1)])\n",
    "ax1.plot(min_train_loocv_agg[:, 1], min_train_loocv_agg_risk, marker='o')\n",
    "\n",
    "fig.tight_layout()\n",
    "fig.subplots_adjust(top=.905)\n",
    "fig.savefig(\n",
    "    r'../figures/QE.png',\n",
    "    bbox_size='tight',\n",
    "    dpi=350,\n",
    "    transparent=True,\n",
    "    pad_inches=0\n",
    ")"
   ]
  },
  {
   "cell_type": "code",
   "execution_count": null,
   "metadata": {},
   "outputs": [],
   "source": [
    "# eucl_test = get_data('euclidian', test=True, small=False, LOOCV=True) # Not actually LOOCV\n",
    "# eucl_train = get_data('euclidian', test=False, small=False, LOOCV=True) # eucl_train[:, 0]/59999\n",
    "# eucl_train_risk = eucl_train[:, 0]/59999\n",
    "# eucl_test_risk = eucl_test[:, 0]/10000\n",
    "\n",
    "# fig, (ax1, ax2) = plt.subplots(1, 2, figsize=(16, 6))\n",
    "# fig.suptitle(r'\\Huge{\\textbf{Euclidean Distance}}', )\n",
    "\n",
    "# ax1.set_title(r'Train Data LOOCV (large)')\n",
    "# ax1.set_xlabel('k', fontsize=LABEL_SIZE)\n",
    "# ax1.set_ylabel('Emperical risk', fontsize=LABEL_SIZE)\n",
    "# ax1.set_xticks([x for x in range(1, len(eucl_train[:,1])+1)])\n",
    "# ax1.plot(eucl_train[:,1], eucl_train_risk, marker='o')\n",
    "\n",
    "# ax2.set_title(r'Test Data (large)')\n",
    "# ax2.set_xlabel('k', fontsize=LABEL_SIZE)\n",
    "# ax2.set_ylabel('Emperical risk', fontsize=LABEL_SIZE)\n",
    "# ax2.set_xticks([x for x in range(1, len(eucl_test[:,1])+1)])\n",
    "# ax2.plot(eucl_test[:,1], eucl_test_risk, marker='o', color='orange')\n",
    "\n",
    "# fig.tight_layout()\n",
    "# fig.savefig(\n",
    "#     r'../figures/QE_eucl.png',\n",
    "#     bbox_size='tight',\n",
    "#     dpi=350,\n",
    "#     transparent=True,\n",
    "#     pad_inches=0\n",
    "# )"
   ]
  },
  {
   "cell_type": "markdown",
   "metadata": {},
   "source": [
    "## Question F"
   ]
  },
  {
   "cell_type": "code",
   "execution_count": null,
   "metadata": {},
   "outputs": [],
   "source": [
    "min_test_loocv =  np.loadtxt(r'..\\results\\QE\\minkowski_test_LOOCV.txt', delimiter=',')\n",
    "min_test_loocv_agg = []\n",
    "for k in np.sort(np.unique(min_train_loocv[:, 2])):\n",
    "    k = int(k)\n",
    "    k_loss = np.sum(min_test_loocv[np.where(min_test_loocv[:, 2] == k)][:, 1])\n",
    "    min_test_loocv_agg.append([\n",
    "        k_loss,\n",
    "        k,\n",
    "        8\n",
    "    ])\n",
    "np.savetxt(r'..\\results\\QE\\minkowski_test_LOOCV_agg.txt', min_test_loocv_agg, delimiter=\",\", fmt='%s')\n",
    "min_test_loocv_agg = np.array(min_test_loocv_agg)\n",
    "min_test_loocv_agg_risk = min_test_loocv_agg[:, 0]/(60_000-1)"
   ]
  },
  {
   "cell_type": "code",
   "execution_count": null,
   "metadata": {},
   "outputs": [],
   "source": [
    "fig, ax1 = plt.subplots(1, 1, figsize=(10, 8))\n",
    "fig.suptitle(r\"\\Huge{\\textbf{Minkowski Distance}}\" \"\\n\" r\"Risk test Data $p=8$\")\n",
    "\n",
    "ax1.set_xlabel('k', fontsize=LABEL_SIZE)\n",
    "ax1.set_ylabel('Empirical Risk', fontsize=LABEL_SIZE)\n",
    "ax1.set_xticks([x for x in range(1, len(min_test_loocv_agg[:,1])+1)])\n",
    "ax1.plot(min_test_loocv_agg[:, 1], min_test_loocv_agg_risk, marker='o')\n",
    "\n",
    "fig.tight_layout()\n",
    "fig.subplots_adjust(top=.905)\n",
    "fig.savefig(\n",
    "    r'../figures/QF.png',\n",
    "    bbox_size='tight',\n",
    "    dpi=350,\n",
    "    transparent=True,\n",
    "    pad_inches=0\n",
    ")"
   ]
  },
  {
   "cell_type": "markdown",
   "metadata": {},
   "source": [
    "## Question G"
   ]
  },
  {
   "cell_type": "code",
   "execution_count": null,
   "metadata": {},
   "outputs": [],
   "source": [
    "test = []\n",
    "train = []\n",
    "train_risk = []\n",
    "ks = []\n",
    "for k in range(1, 11):\n",
    "    ks.append(k)\n",
    "    min_train_LOOCV = get_data(f'PCA_euclidian_{k}', test=False, small=True, LOOCV=True)\n",
    "    min_test = get_data(f'PCA_euclidian_{k}', test=True, small=True, LOOCV=True)\n",
    "    min_train_LOOCV_risk = min_train_LOOCV[:, 0]/2999\n",
    "    test.append(min_test)\n",
    "    train.append(min_train_LOOCV)\n",
    "    train_risk.append(min_train_LOOCV_risk)"
   ]
  },
  {
   "cell_type": "code",
   "execution_count": null,
   "metadata": {},
   "outputs": [],
   "source": [
    "fig, ax1 = plt.subplots(1, 1, figsize=(10, 8))\n",
    "# fig.suptitle('Minkowski Distance\\nLOOCV Train Data', fontsize=TITLE_SIZE)\n",
    "# fig.suptitle(r\"\"\"\\Huge{Minkowski Distance} \\newline  \\large{Small subtitle !}\"\"\", ha='center')\n",
    "\n",
    "fig.suptitle(\n",
    "    r\"\\Huge{\\textbf{Euclidian on $A_s$}}\" \"\\n\" r\"LOOCV Risk Train Data for s (small)\",\n",
    "#     y=1.01\n",
    ")\n",
    "\n",
    "# ax1.set_title('LOOCV Train Data', fontsize=AX_TITLE_SIZE)\n",
    "ax1.set_xlabel('k', fontsize=LABEL_SIZE)\n",
    "ax1.set_ylabel('Empirical Risk', fontsize=LABEL_SIZE)\n",
    "ax1.set_xticks([x for x in range(1, len(eucl_train_LOOCV[:,1])+1)])\n",
    "for i, p in enumerate(test):\n",
    "    ax1.plot(\n",
    "        range(1, 21),\n",
    "        p[:, 0]/1000,\n",
    "        marker='o',\n",
    "        label=f's={ks[i]}'\n",
    "    )\n",
    "\n",
    "ax1.legend(\n",
    "    loc='center left',\n",
    "    ncol=3,\n",
    "    frameon=False\n",
    ")\n",
    "\n",
    "fig.tight_layout()\n",
    "fig.subplots_adjust(top=.905)\n",
    "fig.savefig(\n",
    "    r'../figures/QG.png',\n",
    "    bbox_size='tight',\n",
    "    dpi=350,\n",
    "    transparent=True,\n",
    "    pad_inches=0\n",
    ")"
   ]
  }
 ],
 "metadata": {
  "kernelspec": {
   "display_name": "Python 3",
   "language": "python",
   "name": "python3"
  },
  "language_info": {
   "codemirror_mode": {
    "name": "ipython",
    "version": 3
   },
   "file_extension": ".py",
   "mimetype": "text/x-python",
   "name": "python",
   "nbconvert_exporter": "python",
   "pygments_lexer": "ipython3",
   "version": "3.7.5"
  }
 },
 "nbformat": 4,
 "nbformat_minor": 4
}
