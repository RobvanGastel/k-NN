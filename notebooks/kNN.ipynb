{
 "cells": [
  {
   "cell_type": "code",
   "execution_count": null,
   "metadata": {},
   "outputs": [],
   "source": [
    "import numpy as np\n",
    "import sys\n",
    "sys.path.append('../')\n",
    "\n",
    "from kNN.kNN import kNN"
   ]
  },
  {
   "cell_type": "code",
   "execution_count": null,
   "metadata": {},
   "outputs": [],
   "source": [
    "train = np.loadtxt(r'../data/MNIST_train_small.csv', delimiter=',')[:1000]\n",
    "X_train, y_train = train[:,1:], train[:,0].astype('int8')\n",
    "test = np.loadtxt(r'../data/MNIST_test_small.csv', delimiter=',')[:100]\n",
    "X_test, y_test = test[:,1:], test[:,0].astype('int8')"
   ]
  },
  {
   "cell_type": "code",
   "execution_count": null,
   "metadata": {},
   "outputs": [],
   "source": [
    "# Distance functions between array X and array Y\n",
    "predict = lambda distances, y, k=5: np.bincount(y[distances.argsort()][:k]).argmax()\n",
    "\n",
    "\n",
    "\n",
    "def euclidean(X_train, y_train, X_test, y_test, k=5):\n",
    "    '''\n",
    "    euclidean distance\n",
    "    '''\n",
    "#     q1 = np.subtract(X, Y)\n",
    "#     q2 = np.power(q1, 2)\n",
    "#     q3 = np.sum(q2)\n",
    "#     q4 = np.sqrt(q3)\n",
    "#     return np.sqrt(np.sum(np.power(np.subtract(X, Y), 2)))\n",
    "\n",
    "    predictions = []\n",
    "#     counter, perc = 0, len(X_test) // 100\n",
    "    for x_test in X_test:\n",
    "#         counter += 1\n",
    "#         if counter % perc == 0:\n",
    "#             print(counter//perc, '%', end='\\r')\n",
    "        \n",
    "#         np1 57.9s\n",
    "#         distances = []    \n",
    "#         for x_train in X_train:\n",
    "#             distances.append(np.sqrt(np.sum(np.power(np.subtract(x_test, x_train), 2))))\n",
    "        \n",
    "#         np2 50.5s\n",
    "        distances = np.sqrt(np.sum(np.power(np.subtract(x_test, X_train), 2), axis=1))\n",
    "\n",
    "        predictions.append(predict(np.array(distances), y_train, k))\n",
    "\n",
    "    \n",
    "        \n",
    "    return predictions"
   ]
  },
  {
   "cell_type": "code",
   "execution_count": null,
   "metadata": {},
   "outputs": [],
   "source": [
    "%%time\n",
    "pred = euclidean(X_train, y_train, X_test, y_test, k=5)"
   ]
  },
  {
   "cell_type": "code",
   "execution_count": null,
   "metadata": {},
   "outputs": [],
   "source": [
    "np.bincount(pred)"
   ]
  },
  {
   "cell_type": "code",
   "execution_count": null,
   "metadata": {},
   "outputs": [],
   "source": []
  },
  {
   "cell_type": "code",
   "execution_count": null,
   "metadata": {},
   "outputs": [],
   "source": []
  },
  {
   "cell_type": "code",
   "execution_count": null,
   "metadata": {},
   "outputs": [],
   "source": [
    "#redundant indices\n",
    "train = np.loadtxt(r'../data/MNIST_train.csv', delimiter=',')#[:200]\n",
    "q, _ = train[:,1:], train[:,0].astype('int8')\n",
    "\n",
    "redundant_indices = []\n",
    "for i,x in enumerate(q.T):\n",
    "    same = True\n",
    "    all_val = x[0]\n",
    "    for val in x:\n",
    "        if val != all_val:\n",
    "            same = False\n",
    "            break\n",
    "    if same:\n",
    "        redundant_indices.append(i)\n",
    "len(redundant_indices)"
   ]
  },
  {
   "cell_type": "code",
   "execution_count": null,
   "metadata": {},
   "outputs": [],
   "source": []
  },
  {
   "cell_type": "code",
   "execution_count": null,
   "metadata": {},
   "outputs": [],
   "source": [
    "def manhattan(X, Y):\n",
    "    '''\n",
    "    Manhattan distance\n",
    "    https://en.wikipedia.org/wiki/Taxicab_geometry\n",
    "    '''\n",
    "    return np.sum(np.abs(X-Y))\n",
    "\n",
    "def cosine(X, Y):\n",
    "    '''\n",
    "    Cosine similarity\n",
    "    https://en.wikipedia.org/wiki/Cosine_similarity\n",
    "    '''\n",
    "    pass\n",
    "\n",
    "def mahalanobis(X, Y):\n",
    "    '''\n",
    "    Mahalanobis distance\n",
    "    https://en.wikipedia.org/wiki/Mahalanobis_distance\n",
    "    '''\n",
    "    pass\n",
    "\n",
    "def chebyshev(X, Y):\n",
    "    '''\n",
    "    Chebyshev distance\n",
    "    https://iq.opengenus.org/chebyshev-distance/\n",
    "    '''\n",
    "\n",
    "\n",
    "print('euclidean  ', dist.euclidean(X_train[0], X_train[1]))\n",
    "print('manhattan  ', dist.manhattan(X_train[0], X_train[1]))\n",
    "print('cosine     ', dist.cosine(X_train[0], X_train[1]))\n",
    "print('mahalanobis', dist.mahalanobis(X_train[0], X_train[1]))\n",
    "print('chebyshev  ', dist.chebyshev(X_train[0], X_train[1]))"
   ]
  },
  {
   "cell_type": "code",
   "execution_count": null,
   "metadata": {},
   "outputs": [],
   "source": []
  },
  {
   "cell_type": "code",
   "execution_count": null,
   "metadata": {},
   "outputs": [],
   "source": []
  },
  {
   "cell_type": "code",
   "execution_count": null,
   "metadata": {},
   "outputs": [],
   "source": []
  },
  {
   "cell_type": "code",
   "execution_count": null,
   "metadata": {},
   "outputs": [],
   "source": []
  },
  {
   "cell_type": "code",
   "execution_count": null,
   "metadata": {},
   "outputs": [],
   "source": []
  }
 ],
 "metadata": {
  "kernelspec": {
   "display_name": "Python 3",
   "language": "python",
   "name": "python3"
  },
  "language_info": {
   "codemirror_mode": {
    "name": "ipython",
    "version": 3
   },
   "file_extension": ".py",
   "mimetype": "text/x-python",
   "name": "python",
   "nbconvert_exporter": "python",
   "pygments_lexer": "ipython3",
   "version": "3.7.5"
  }
 },
 "nbformat": 4,
 "nbformat_minor": 4
}
