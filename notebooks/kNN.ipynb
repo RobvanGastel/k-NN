{
 "cells": [
  {
   "cell_type": "code",
   "execution_count": 7,
   "metadata": {},
   "outputs": [
    {
     "ename": "SyntaxError",
     "evalue": "non-default argument follows default argument (kNN.py, line 11)",
     "output_type": "error",
     "traceback": [
      "Traceback \u001b[1;36m(most recent call last)\u001b[0m:\n",
      "  File \u001b[0;32m\"C:\\Users\\lucan\\Anaconda3\\lib\\site-packages\\IPython\\core\\interactiveshell.py\"\u001b[0m, line \u001b[0;32m3319\u001b[0m, in \u001b[0;35mrun_code\u001b[0m\n    exec(code_obj, self.user_global_ns, self.user_ns)\n",
      "\u001b[1;36m  File \u001b[1;32m\"<ipython-input-7-1cec4729c7f1>\"\u001b[1;36m, line \u001b[1;32m6\u001b[1;36m, in \u001b[1;35m<module>\u001b[1;36m\u001b[0m\n\u001b[1;33m    from kNN.kNN import kNN\u001b[0m\n",
      "\u001b[1;36m  File \u001b[1;32m\"..\\kNN\\kNN.py\"\u001b[1;36m, line \u001b[1;32m11\u001b[0m\n\u001b[1;33m    def predict(self, X_input, k_range=range(1, 21), dist):\u001b[0m\n\u001b[1;37m               ^\u001b[0m\n\u001b[1;31mSyntaxError\u001b[0m\u001b[1;31m:\u001b[0m non-default argument follows default argument\n"
     ]
    }
   ],
   "source": [
    "import numpy as np\n",
    "import sys\n",
    "sys.path.append('../')\n",
    "\n",
    "from kNN.kNN import kNN"
   ]
  },
  {
   "cell_type": "code",
   "execution_count": 6,
   "metadata": {},
   "outputs": [
    {
     "ename": "ImportError",
     "evalue": "attempted relative import with no known parent package",
     "output_type": "error",
     "traceback": [
      "\u001b[1;31m---------------------------------------------------------------------------\u001b[0m",
      "\u001b[1;31mImportError\u001b[0m                               Traceback (most recent call last)",
      "\u001b[1;32m<ipython-input-6-8848c7a7acd6>\u001b[0m in \u001b[0;36m<module>\u001b[1;34m\u001b[0m\n\u001b[1;32m----> 1\u001b[1;33m \u001b[1;32mfrom\u001b[0m \u001b[1;33m...\u001b[0m \u001b[1;32mimport\u001b[0m \u001b[0mmain\u001b[0m\u001b[1;33m\u001b[0m\u001b[1;33m\u001b[0m\u001b[0m\n\u001b[0m",
      "\u001b[1;31mImportError\u001b[0m: attempted relative import with no known parent package"
     ]
    }
   ],
   "source": [
    "from ... import main"
   ]
  },
  {
   "cell_type": "code",
   "execution_count": null,
   "metadata": {},
   "outputs": [],
   "source": [
    "train = np.loadtxt(r'../data/MNIST_train_small.csv', delimiter=',')[:1000]\n",
    "X_train, y_train = train[:,1:], train[:,0].astype('int8')\n",
    "test = np.loadtxt(r'../data/MNIST_test_small.csv', delimiter=',')[:100]\n",
    "X_test, y_test = test[:,1:], test[:,0].astype('int8')"
   ]
  },
  {
   "cell_type": "code",
   "execution_count": null,
   "metadata": {},
   "outputs": [],
   "source": [
    "# Distance functions between array X and array Y\n",
    "predict = lambda distances, y, k=5: np.bincount(y[distances.argsort()][:k]).argmax()\n",
    "\n",
    "\n",
    "\n",
    "def euclidian(X_train, y_train, X_test, y_test, k=5):\n",
    "    '''\n",
    "    Euclidian distance\n",
    "    '''\n",
    "#     q1 = np.subtract(X, Y)\n",
    "#     q2 = np.power(q1, 2)\n",
    "#     q3 = np.sum(q2)\n",
    "#     q4 = np.sqrt(q3)\n",
    "#     return np.sqrt(np.sum(np.power(np.subtract(X, Y), 2)))\n",
    "\n",
    "    predictions = []\n",
    "#     counter, perc = 0, len(X_test) // 100\n",
    "    for x_test in X_test:\n",
    "#         counter += 1\n",
    "#         if counter % perc == 0:\n",
    "#             print(counter//perc, '%', end='\\r')\n",
    "        \n",
    "#         np1 57.9s\n",
    "#         distances = []    \n",
    "#         for x_train in X_train:\n",
    "#             distances.append(np.sqrt(np.sum(np.power(np.subtract(x_test, x_train), 2))))\n",
    "        \n",
    "#         np2 50.5s\n",
    "        distances = np.sqrt(np.sum(np.power(np.subtract(x_test, X_train), 2), axis=1))\n",
    "\n",
    "        predictions.append(predict(np.array(distances), y_train, k))\n",
    "\n",
    "    \n",
    "        \n",
    "    return predictions"
   ]
  },
  {
   "cell_type": "code",
   "execution_count": null,
   "metadata": {},
   "outputs": [],
   "source": [
    "%%time\n",
    "pred = euclidian(X_train, y_train, X_test, y_test, k=5)"
   ]
  },
  {
   "cell_type": "code",
   "execution_count": null,
   "metadata": {},
   "outputs": [],
   "source": [
    "np.bincount(pred)"
   ]
  },
  {
   "cell_type": "code",
   "execution_count": null,
   "metadata": {},
   "outputs": [],
   "source": []
  },
  {
   "cell_type": "code",
   "execution_count": null,
   "metadata": {},
   "outputs": [],
   "source": []
  },
  {
   "cell_type": "code",
   "execution_count": null,
   "metadata": {},
   "outputs": [],
   "source": [
    "#redundant indices\n",
    "train = np.loadtxt(r'../data/MNIST_train.csv', delimiter=',')#[:200]\n",
    "q, _ = train[:,1:], train[:,0].astype('int8')\n",
    "\n",
    "redundant_indices = []\n",
    "for i,x in enumerate(q.T):\n",
    "    same = True\n",
    "    all_val = x[0]\n",
    "    for val in x:\n",
    "        if val != all_val:\n",
    "            same = False\n",
    "            break\n",
    "    if same:\n",
    "        redundant_indices.append(i)\n",
    "len(redundant_indices)"
   ]
  },
  {
   "cell_type": "code",
   "execution_count": null,
   "metadata": {},
   "outputs": [],
   "source": []
  },
  {
   "cell_type": "code",
   "execution_count": null,
   "metadata": {},
   "outputs": [],
   "source": [
    "def manhattan(X, Y):\n",
    "    '''\n",
    "    Manhattan distance\n",
    "    https://en.wikipedia.org/wiki/Taxicab_geometry\n",
    "    '''\n",
    "    return np.sum(np.abs(X-Y))\n",
    "\n",
    "def cosine(X, Y):\n",
    "    '''\n",
    "    Cosine similarity\n",
    "    https://en.wikipedia.org/wiki/Cosine_similarity\n",
    "    '''\n",
    "    pass\n",
    "\n",
    "def mahalanobis(X, Y):\n",
    "    '''\n",
    "    Mahalanobis distance\n",
    "    https://en.wikipedia.org/wiki/Mahalanobis_distance\n",
    "    '''\n",
    "    pass\n",
    "\n",
    "def chebyshev(X, Y):\n",
    "    '''\n",
    "    Chebyshev distance\n",
    "    https://iq.opengenus.org/chebyshev-distance/\n",
    "    '''\n",
    "\n",
    "\n",
    "print('euclidian  ', dist.euclidian(X_train[0], X_train[1]))\n",
    "print('manhattan  ', dist.manhattan(X_train[0], X_train[1]))\n",
    "print('cosine     ', dist.cosine(X_train[0], X_train[1]))\n",
    "print('mahalanobis', dist.mahalanobis(X_train[0], X_train[1]))\n",
    "print('chebyshev  ', dist.chebyshev(X_train[0], X_train[1]))"
   ]
  },
  {
   "cell_type": "code",
   "execution_count": null,
   "metadata": {},
   "outputs": [],
   "source": []
  },
  {
   "cell_type": "code",
   "execution_count": null,
   "metadata": {},
   "outputs": [],
   "source": []
  },
  {
   "cell_type": "code",
   "execution_count": null,
   "metadata": {},
   "outputs": [],
   "source": []
  },
  {
   "cell_type": "code",
   "execution_count": null,
   "metadata": {},
   "outputs": [],
   "source": []
  },
  {
   "cell_type": "code",
   "execution_count": null,
   "metadata": {},
   "outputs": [],
   "source": []
  }
 ],
 "metadata": {
  "kernelspec": {
   "display_name": "Python 3",
   "language": "python",
   "name": "python3"
  },
  "language_info": {
   "codemirror_mode": {
    "name": "ipython",
    "version": 3
   },
   "file_extension": ".py",
   "mimetype": "text/x-python",
   "name": "python",
   "nbconvert_exporter": "python",
   "pygments_lexer": "ipython3",
   "version": "3.7.5"
  }
 },
 "nbformat": 4,
 "nbformat_minor": 4
}
