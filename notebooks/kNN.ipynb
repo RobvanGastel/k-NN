{
 "cells": [
  {
   "cell_type": "code",
   "execution_count": null,
   "metadata": {},
   "outputs": [],
   "source": [
    "import numpy as np"
   ]
  },
  {
   "cell_type": "code",
   "execution_count": null,
   "metadata": {},
   "outputs": [],
   "source": [
    "train = np.loadtxt(r'../data/MNIST_train_small.csv', delimiter=',')[:200]\n",
    "X_train, y_train = train[:,1:], train[:,0]\n",
    "test = np.loadtxt(r'../data/MNIST_test_small.csv', delimiter=',')[:50]\n",
    "X_test, y_test = test[:,1:], test[:,0]"
   ]
  },
  {
   "cell_type": "code",
   "execution_count": null,
   "metadata": {},
   "outputs": [],
   "source": [
    "class dist:\n",
    "    \n",
    "    def euclidian(X, Y):\n",
    "#         q1 = np.subtract(X, Y)\n",
    "#         q2 = np.power(q1, 2)\n",
    "#         q3 = np.sum(q2)\n",
    "#         q4 = np.sqrt(q3)\n",
    "#         return q4\n",
    "        return np.sqrt(np.sum(np.power(np.subtract(X, Y), 2)))\n",
    "\n",
    "# dist.euclidian(X_train[0], X_train[1])"
   ]
  },
  {
   "cell_type": "code",
   "execution_count": null,
   "metadata": {},
   "outputs": [],
   "source": []
  },
  {
   "cell_type": "code",
   "execution_count": null,
   "metadata": {},
   "outputs": [],
   "source": []
  },
  {
   "cell_type": "code",
   "execution_count": null,
   "metadata": {},
   "outputs": [],
   "source": []
  },
  {
   "cell_type": "code",
   "execution_count": null,
   "metadata": {},
   "outputs": [],
   "source": []
  },
  {
   "cell_type": "code",
   "execution_count": null,
   "metadata": {},
   "outputs": [],
   "source": []
  },
  {
   "cell_type": "code",
   "execution_count": null,
   "metadata": {},
   "outputs": [],
   "source": []
  },
  {
   "cell_type": "code",
   "execution_count": null,
   "metadata": {},
   "outputs": [],
   "source": []
  }
 ],
 "metadata": {
  "kernelspec": {
   "display_name": "Python 3",
   "language": "python",
   "name": "python3"
  },
  "language_info": {
   "codemirror_mode": {
    "name": "ipython",
    "version": 3
   },
   "file_extension": ".py",
   "mimetype": "text/x-python",
   "name": "python",
   "nbconvert_exporter": "python",
   "pygments_lexer": "ipython3",
   "version": "3.7.5"
  }
 },
 "nbformat": 4,
 "nbformat_minor": 4
}
