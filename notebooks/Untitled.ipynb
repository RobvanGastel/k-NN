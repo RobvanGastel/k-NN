{
 "cells": [
  {
   "cell_type": "code",
   "execution_count": 1,
   "metadata": {},
   "outputs": [],
   "source": [
    "import numpy as np\n",
    "import sys\n",
    "sys.path.append('../')\n",
    "\n",
    "from kNN.kNN import kNN"
   ]
  },
  {
   "cell_type": "code",
   "execution_count": 6,
   "metadata": {},
   "outputs": [],
   "source": [
    "train = np.loadtxt(r'../data/MNIST_train_small.csv', \n",
    "    delimiter=',')[:250]\n",
    "test = np.loadtxt(r'../data/MNIST_test_small.csv', \n",
    "    delimiter=',')[:50]\n",
    "\n",
    "X_train, y_train = train[:,1:], train[:,0]\n",
    "X_test, y_test = test[:,1:], test[:,0]"
   ]
  },
  {
   "cell_type": "code",
   "execution_count": 7,
   "metadata": {},
   "outputs": [],
   "source": [
    "class kNN:\n",
    "\n",
    "    def __init__(self, X, y):\n",
    "        # Training data\n",
    "        self.X = X\n",
    "        self.y = y\n",
    "        self.n_classes = len(list(set(self.y)))\n",
    "\n",
    "    def predict(self, X_input, dist, k_range=range(1, 21)):\n",
    "        y_hat = np.empty(shape=(X_input.shape[0], max(k_range)))\n",
    "\n",
    "        for i in range(0, len(X_input)):\n",
    "            distances = self.distance(X_input[i], dist)\n",
    "\n",
    "            # Order distance by closest elements\n",
    "            neighbors = sorted(distances, key=lambda x: x[0])\n",
    "\n",
    "            for k in k_range:\n",
    "                k_neighbors = neighbors[:k]\n",
    "                y_hat[i][k-1] = self.__majority_vote(k_neighbors)\n",
    "\n",
    "        return y_hat\n",
    "\n",
    "    def distance(self, x, dist):\n",
    "        # TODO: Add more distance measures\n",
    "        if dist == \"euclidian\":\n",
    "            return self.euclidian(x)\n",
    "        if dist == \"minkowski\":\n",
    "            return self.minkowski(x)\n",
    "        if dist == \"cosine\":\n",
    "            return self.cosine(x)\n",
    "\n",
    "    def euclidian(self, x):\n",
    "        '''Euclidian distance\n",
    "        '''\n",
    "        distances = np.sqrt(np.sum(np.power(\n",
    "            np.subtract(x, self.X), 2), axis=1))\n",
    "        return np.stack((distances, self.y), axis=-1)\n",
    "\n",
    "\n",
    "    def manhattan(self, X, Y):\n",
    "        '''\n",
    "        Manhattan distance\n",
    "        https://en.wikipedia.org/wiki/Taxicab_geometry\n",
    "        '''\n",
    "        return np.sum(np.abs(X-Y))\n",
    "\n",
    "    def cosine(self, x):\n",
    "        distances = np.divide(np.sum(np.multiply(x, self.X), axis=1),\n",
    "                              np.sqrt(np.multiply(np.sum(np.power(x, 2), axis=1), np.sum(np.power(self.X, 2), axis=1))))\n",
    "        return np.stack((distances, self.y), axis=-1)\n",
    "\n",
    "    def mahalanobis(self, X, Y):\n",
    "        '''\n",
    "        Mahalanobis distance\n",
    "        https://en.wikipedia.org/wiki/Mahalanobis_distance\n",
    "        '''\n",
    "        pass\n",
    "\n",
    "    \n",
    "    def minkowski(self, x, p=5):\n",
    "        distances = np.power(np.sum(np.power(\n",
    "            np.abs(np.subtract(x, self.X)), p), axis=1), 1/p)\n",
    "        return np.stack((distances, self.y), axis=-1)\n",
    "    \n",
    "    def chebyshev(self, X, Y):\n",
    "        '''\n",
    "        Chebyshev distance\n",
    "        https://iq.opengenus.org/chebyshev-distance/\n",
    "        '''\n",
    "        pass\n",
    "\n",
    "    def chi_square (self, X, Y):\n",
    "        pass\n",
    "\n",
    "\n",
    "    def __majority_vote(self, neighbors):\n",
    "        '''Majority vote for the k nearest neighbors chosen\n",
    "        '''\n",
    "        votes = [0] * self.n_classes\n",
    "        for n in neighbors:\n",
    "            votes[int(n[1])] += 1\n",
    "        \n",
    "        # Indices which have the same vote\n",
    "        indices = np.argwhere(votes == np.amax(votes)).flatten().tolist()\n",
    "\n",
    "        for n in neighbors:\n",
    "            if int(n[1]) in indices:\n",
    "                return n[1]\n"
   ]
  },
  {
   "cell_type": "code",
   "execution_count": 8,
   "metadata": {},
   "outputs": [
    {
     "name": "stdout",
     "output_type": "stream",
     "text": [
      "0/1 loss:  11 for k:  1\n",
      "0/1 loss:  11 for k:  2\n",
      "0/1 loss:  13 for k:  3\n",
      "0/1 loss:  13 for k:  4\n",
      "0/1 loss:  13 for k:  5\n",
      "0/1 loss:  13 for k:  6\n",
      "0/1 loss:  13 for k:  7\n",
      "0/1 loss:  13 for k:  8\n",
      "0/1 loss:  12 for k:  9\n",
      "0/1 loss:  11 for k:  10\n",
      "0/1 loss:  11 for k:  11\n",
      "0/1 loss:  11 for k:  12\n",
      "0/1 loss:  11 for k:  13\n",
      "0/1 loss:  11 for k:  14\n",
      "0/1 loss:  12 for k:  15\n",
      "0/1 loss:  12 for k:  16\n",
      "0/1 loss:  13 for k:  17\n",
      "0/1 loss:  14 for k:  18\n",
      "0/1 loss:  14 for k:  19\n",
      "0/1 loss:  15 for k:  20\n"
     ]
    }
   ],
   "source": [
    "cls = kNN(X=X_train, y=y_train)\n",
    "y_hat = cls.predict(X_test, 'euclidian')\n",
    "\n",
    "for i in range(0, 20):\n",
    "    print(\"0/1 loss: \", np.sum(y_hat[:, i] != y_test), \"for k: \", i+1)"
   ]
  },
  {
   "cell_type": "code",
   "execution_count": null,
   "metadata": {},
   "outputs": [],
   "source": []
  },
  {
   "cell_type": "code",
   "execution_count": null,
   "metadata": {},
   "outputs": [],
   "source": []
  },
  {
   "cell_type": "code",
   "execution_count": null,
   "metadata": {},
   "outputs": [],
   "source": []
  },
  {
   "cell_type": "code",
   "execution_count": null,
   "metadata": {},
   "outputs": [],
   "source": []
  },
  {
   "cell_type": "code",
   "execution_count": null,
   "metadata": {},
   "outputs": [],
   "source": []
  },
  {
   "cell_type": "code",
   "execution_count": null,
   "metadata": {},
   "outputs": [],
   "source": []
  },
  {
   "cell_type": "code",
   "execution_count": null,
   "metadata": {},
   "outputs": [],
   "source": []
  },
  {
   "cell_type": "code",
   "execution_count": null,
   "metadata": {},
   "outputs": [],
   "source": []
  },
  {
   "cell_type": "code",
   "execution_count": null,
   "metadata": {},
   "outputs": [],
   "source": []
  }
 ],
 "metadata": {
  "kernelspec": {
   "display_name": "Python 3",
   "language": "python",
   "name": "python3"
  },
  "language_info": {
   "codemirror_mode": {
    "name": "ipython",
    "version": 3
   },
   "file_extension": ".py",
   "mimetype": "text/x-python",
   "name": "python",
   "nbconvert_exporter": "python",
   "pygments_lexer": "ipython3",
   "version": "3.7.5"
  }
 },
 "nbformat": 4,
 "nbformat_minor": 4
}
